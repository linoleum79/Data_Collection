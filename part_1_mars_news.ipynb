Module 12 Challenge
Deliverable 1: Scrape Titles and Preview Text from Mars News
# Import Splinter and BeautifulSoup
from splinter import Browser
from bs4 import BeautifulSoup as soup
import json
browser = Browser('chrome')
Step 1: Visit the Website
Use automated browsing to visit the Mars news site. Inspect the page to identify which elements to scrape.

Hint To identify which elements to scrape, you might want to inspect the page by using Chrome DevTools.

# Visit the Mars news site
url = 'https://static.bc-edx.com/data/web/mars_news/index.html'
browser.visit(url)
Step 2: Scrape the Website
Create a Beautiful Soup object and use it to extract text elements from the website.

# Create a Beautiful Soup object
mars_soup = soup(browser.html)
# Extract all the text elements
article_items = mars_soup.find_all('div', class_='list_text')
Step 3: Store the Results
Extract the titles and preview text of the news articles that you scraped. Store the scraping results in Python data structures as follows:

Store each title-and-preview pair in a Python dictionary. And, give each dictionary two keys: title and preview. An example is the following:

{'title': "NASA's MAVEN Observes Martian Light Show Caused by Major Solar Storm", 
 'preview': "For the first time in its eight years orbiting Mars, NASA’s MAVEN mission witnessed two different types of ultraviolet aurorae simultaneously, the result of solar storms that began on Aug. 27."
}
Store all the dictionaries in a Python list.

Print the list in your notebook.

# Create an empty list to store the dictionaries
article_list = []
# Loop through the text elements
# Extract the title and preview text from the elements
# Store each title and preview pair in a dictionary
# Add the dictionary to the list
for article in article_items:
    title = article.find('div', class_="content_title")
    preview = article.find('div', class_="article_teaser_body")
    
    # if both a title and preview were found, create an dictionary item
    # and add it to the article list
    if (title and preview):
        article_elements = {
            "title": title.text,
            "preview": preview.text
        }

        article_list.append(article_elements)
# Print the list to confirm success
article_list
[{'title': "NASA's MAVEN Observes Martian Light Show Caused by Major Solar Storm",
  'preview': 'For the first time in its eight years orbiting Mars, NASA’s MAVEN mission witnessed two different types of ultraviolet aurorae simultaneously, the result of solar storms that began on Aug. 27.'},
 {'title': "NASA Prepares to Say 'Farewell' to InSight Spacecraft",
  'preview': 'A closer look at what goes into wrapping up the mission as the spacecraft’s power supply continues to dwindle.'},
 {'title': 'NASA and ESA Agree on Next Steps to Return Mars Samples to Earth',
  'preview': 'The agency’s Perseverance rover will establish the first sample depot on Mars.'},
 {'title': "NASA's InSight Lander Detects Stunning Meteoroid Impact on Mars",
  'preview': 'The agency’s lander felt the ground shake during the impact while cameras aboard the Mars Reconnaissance Orbiter spotted the yawning new crater from space.'},
 {'title': 'NASA To Host Briefing on InSight, Mars Reconnaissance Orbiter Findings',
  'preview': 'Scientists from two Mars missions will discuss how they combined images and data for a major finding on the Red Planet.'},
 {'title': 'Why NASA Is Trying To Crash Land on Mars',
  'preview': 'Like a car’s crumple zone, the experimental SHIELD lander is designed to absorb a hard impact.'},
 {'title': 'Curiosity Mars Rover Reaches Long-Awaited Salty Region',
  'preview': 'After years of climbing, the Mars rover has arrived at a special region believed to have formed as Mars’ climate was drying.'},
 {'title': 'Mars Mission Shields Up for Tests',
  'preview': 'Protecting Mars Sample Return spacecraft from micrometeorites requires high-caliber work.'},
 {'title': "NASA's InSight Waits Out Dust Storm",
  'preview': 'InSight’s team is taking steps to help the solar-powered lander continue operating for as long as possible.'},
 {'title': "NASA's InSight 'Hears' Its First Meteoroid Impacts on Mars",
  'preview': 'The Mars lander’s seismometer has picked up vibrations from four separate impacts in the past two years.'},
 {'title': "NASA's Perseverance Rover Investigates Geologically Rich Mars Terrain",
  'preview': 'The latest findings provide greater detail on a region of the Red Planet that has a watery past and is yielding promising samples for the NASA-ESA Mars Sample Return campaign.'},
 {'title': 'NASA to Host Briefing on Perseverance Mars Rover Mission Operations',
  'preview': 'Members of the mission will discuss the rover’s activities as it gathers samples in an ancient river delta.'},
 {'title': "NASA's Perseverance Makes New Discoveries in Mars' Jezero Crater",
  'preview': 'The rover found that Jezero Crater’s floor is made up of volcanic rocks that have interacted with water.'},
 {'title': "10 Years Since Landing, NASA's Curiosity Mars Rover Still Has Drive",
  'preview': 'Despite signs of wear, the intrepid spacecraft is about to start an exciting new chapter of its mission as it climbs a Martian mountain.'},
 {'title': "SAM's Top 5 Discoveries Aboard NASA's Curiosity Rover at Mars",
  'preview': '“Selfie” of the Curiosity rover with inset showing the SAM instrument prior to installation on the rover.'}]
browser.quit()
# export article list to json file
with open('mars_articles.json', 'w', encoding='utf-8') as json_file:
    json.dump(article_list, json_file)
